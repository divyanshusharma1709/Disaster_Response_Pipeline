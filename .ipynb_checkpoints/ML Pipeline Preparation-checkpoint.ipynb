{
 "cells": [
  {
   "cell_type": "markdown",
   "metadata": {},
   "source": [
    "# ML Pipeline Preparation\n",
    "Follow the instructions below to help you create your ML pipeline.\n",
    "### 1. Import libraries and load data from database.\n",
    "- Import Python libraries\n",
    "- Load dataset from database with [`read_sql_table`](https://pandas.pydata.org/pandas-docs/stable/generated/pandas.read_sql_table.html)\n",
    "- Define feature and target variables X and Y"
   ]
  },
  {
   "cell_type": "code",
   "execution_count": 2,
   "metadata": {},
   "outputs": [
    {
     "name": "stdout",
     "output_type": "stream",
     "text": [
      "[nltk_data] Downloading package punkt to /root/nltk_data...\n",
      "[nltk_data]   Unzipping tokenizers/punkt.zip.\n",
      "[nltk_data] Downloading package stopwords to /root/nltk_data...\n",
      "[nltk_data]   Unzipping corpora/stopwords.zip.\n",
      "[nltk_data] Downloading package wordnet to /root/nltk_data...\n",
      "[nltk_data]   Unzipping corpora/wordnet.zip.\n"
     ]
    }
   ],
   "source": [
    "# import libraries\n",
    "from sqlalchemy import create_engine\n",
    "import pandas\n",
    "import re\n",
    "\n",
    "import nltk\n",
    "nltk.download('punkt')\n",
    "nltk.download('stopwords')\n",
    "nltk.download('wordnet')\n",
    "from nltk.stem.wordnet import WordNetLemmatizer\n",
    "from nltk.corpus import stopwords\n",
    "from nltk.tokenize import word_tokenize\n",
    "from nltk.tokenize import sent_tokenize\n",
    "\n",
    "from sklearn.feature_extraction.text import CountVectorizer, TfidfTransformer\n",
    "from sklearn.pipeline import Pipeline\n",
    "from sklearn.multioutput import MultiOutputClassifier\n",
    "from sklearn.ensemble import RandomForestClassifier\n",
    "from sklearn.svm import SVC\n",
    "from sklearn.model_selection import GridSearchCV\n",
    "from sklearn.model_selection import train_test_split\n",
    "from sklearn.metrics import classification_report"
   ]
  },
  {
   "cell_type": "code",
   "execution_count": 3,
   "metadata": {},
   "outputs": [
    {
     "name": "stdout",
     "output_type": "stream",
     "text": [
      "<class 'pandas.core.frame.DataFrame'>\n",
      "RangeIndex: 10170 entries, 0 to 10169\n",
      "Data columns (total 40 columns):\n",
      "id                        10170 non-null int64\n",
      "message                   10170 non-null object\n",
      "original                  10170 non-null object\n",
      "genre                     10170 non-null object\n",
      "related                   10170 non-null int64\n",
      "request                   10170 non-null int64\n",
      "offer                     10170 non-null int64\n",
      "aid_related               10170 non-null int64\n",
      "medical_help              10170 non-null int64\n",
      "medical_products          10170 non-null int64\n",
      "search_and_rescue         10170 non-null int64\n",
      "security                  10170 non-null int64\n",
      "military                  10170 non-null int64\n",
      "child_alone               10170 non-null int64\n",
      "water                     10170 non-null int64\n",
      "food                      10170 non-null int64\n",
      "shelter                   10170 non-null int64\n",
      "clothing                  10170 non-null int64\n",
      "money                     10170 non-null int64\n",
      "missing_people            10170 non-null int64\n",
      "refugees                  10170 non-null int64\n",
      "death                     10170 non-null int64\n",
      "other_aid                 10170 non-null int64\n",
      "infrastructure_related    10170 non-null int64\n",
      "transport                 10170 non-null int64\n",
      "buildings                 10170 non-null int64\n",
      "electricity               10170 non-null int64\n",
      "tools                     10170 non-null int64\n",
      "hospitals                 10170 non-null int64\n",
      "shops                     10170 non-null int64\n",
      "aid_centers               10170 non-null int64\n",
      "other_infrastructure      10170 non-null int64\n",
      "weather_related           10170 non-null int64\n",
      "floods                    10170 non-null int64\n",
      "storm                     10170 non-null int64\n",
      "fire                      10170 non-null int64\n",
      "earthquake                10170 non-null int64\n",
      "cold                      10170 non-null int64\n",
      "other_weather             10170 non-null int64\n",
      "direct_report             10170 non-null int64\n",
      "dtypes: int64(37), object(3)\n",
      "memory usage: 3.1+ MB\n"
     ]
    }
   ],
   "source": [
    "# load data from database\n",
    "engine = create_engine('sqlite:///dis_data.db')\n",
    "con = engine.connect()\n",
    "df = pandas.read_sql_table('Data_Clean', con)\n",
    "\n",
    "df.info()"
   ]
  },
  {
   "cell_type": "code",
   "execution_count": 4,
   "metadata": {},
   "outputs": [
    {
     "name": "stdout",
     "output_type": "stream",
     "text": [
      "(10170,) (10170, 36)\n"
     ]
    }
   ],
   "source": [
    "# Create Feature and Label Vectors\n",
    "\n",
    "#Create Labels\n",
    "ls = df.columns[4:]\n",
    "Y = None\n",
    "for el in ls:\n",
    "    Y = pandas.concat([Y, df[el]], axis = 1)\n",
    "Y = Y.dropna()\n",
    "Y[\"related\"].replace({2: 0}, inplace=True)\n",
    "\n",
    "# Create Features\n",
    "X = df['message'] \n",
    "print(X.shape, Y.shape)"
   ]
  },
  {
   "cell_type": "markdown",
   "metadata": {},
   "source": [
    "### 2. Write a tokenization function to process your text data"
   ]
  },
  {
   "cell_type": "code",
   "execution_count": 5,
   "metadata": {},
   "outputs": [],
   "source": [
    "def tokenize(text):\n",
    "    \"\"\"Remove Punctuation, Case Normalize the text and perform Lemmatization\"\"\"\n",
    "    text = text.lower()\n",
    "    text = re.sub(r\"[^a-zA-Z0-9]\", \" \", text)\n",
    "    words = word_tokenize(text)\n",
    "    words = [w for w in words if w not in stopwords.words(\"english\")]\n",
    "    lemmed = [WordNetLemmatizer().lemmatize(w).strip() for w in words]\n",
    "    return lemmed"
   ]
  },
  {
   "cell_type": "code",
   "execution_count": 6,
   "metadata": {},
   "outputs": [
    {
     "data": {
      "text/plain": [
       "['wish', 'simpler', 'sentence']"
      ]
     },
     "execution_count": 6,
     "metadata": {},
     "output_type": "execute_result"
    }
   ],
   "source": [
    "# Test the tokenize function\n",
    "tokenize(\"I wish this were a simpler sentence, but it's not\")"
   ]
  },
  {
   "cell_type": "markdown",
   "metadata": {},
   "source": [
    "### 3. Build a machine learning pipeline\n",
    "This machine pipeline should take in the `message` column as input and output classification results on the other 36 categories in the dataset. You may find the [MultiOutputClassifier](http://scikit-learn.org/stable/modules/generated/sklearn.multioutput.MultiOutputClassifier.html) helpful for predicting multiple target variables."
   ]
  },
  {
   "cell_type": "code",
   "execution_count": 7,
   "metadata": {},
   "outputs": [],
   "source": [
    "# Create the Pipeline\n",
    "\n",
    "pipeline = Pipeline([('vect', CountVectorizer(tokenizer = tokenize)), \n",
    "                    ('tfidf', TfidfTransformer()),\n",
    "                    ('clf', RandomForestClassifier())])"
   ]
  },
  {
   "cell_type": "markdown",
   "metadata": {},
   "source": [
    "### 4. Train pipeline\n",
    "- Split data into train and test sets\n",
    "- Train pipeline"
   ]
  },
  {
   "cell_type": "code",
   "execution_count": 8,
   "metadata": {
    "scrolled": true
   },
   "outputs": [
    {
     "data": {
      "text/plain": [
       "GridSearchCV(cv=None, error_score='raise',\n",
       "       estimator=Pipeline(memory=None,\n",
       "     steps=[('vect', CountVectorizer(analyzer='word', binary=False, decode_error='strict',\n",
       "        dtype=<class 'numpy.int64'>, encoding='utf-8', input='content',\n",
       "        lowercase=True, max_df=1.0, max_features=None, min_df=1,\n",
       "        ngram_range=(1, 1), preprocessor=None, stop_words=None,\n",
       "        strip...n_jobs=1,\n",
       "            oob_score=False, random_state=None, verbose=0,\n",
       "            warm_start=False))]),\n",
       "       fit_params=None, iid=True, n_jobs=1, param_grid={},\n",
       "       pre_dispatch='2*n_jobs', refit=True, return_train_score='warn',\n",
       "       scoring=None, verbose=0)"
      ]
     },
     "execution_count": 8,
     "metadata": {},
     "output_type": "execute_result"
    }
   ],
   "source": [
    "X_train, X_test, y_train, y_test = train_test_split(X, Y)\n",
    "cv = GridSearchCV(pipeline, param_grid = {})\n",
    "cv.fit(X_train, y_train)"
   ]
  },
  {
   "cell_type": "code",
   "execution_count": 9,
   "metadata": {
    "scrolled": true
   },
   "outputs": [
    {
     "name": "stdout",
     "output_type": "stream",
     "text": [
      "[[ 1.  0.  0. ...,  0.  0.  0.]\n",
      " [ 0.  0.  0. ...,  0.  0.  0.]\n",
      " [ 0.  0.  0. ...,  0.  0.  0.]\n",
      " ..., \n",
      " [ 0.  0.  0. ...,  0.  0.  0.]\n",
      " [ 1.  1.  0. ...,  0.  0.  1.]\n",
      " [ 0.  0.  0. ...,  0.  0.  0.]]\n"
     ]
    }
   ],
   "source": [
    "# Perform predictions using the model\n",
    "pred = cv.predict(X_test)\n",
    "print(pred)"
   ]
  },
  {
   "cell_type": "markdown",
   "metadata": {},
   "source": [
    "### 5. Test your model\n",
    "Report the f1 score, precision and recall for each output category of the dataset. You can do this by iterating through the columns and calling sklearn's `classification_report` on each."
   ]
  },
  {
   "cell_type": "code",
   "execution_count": 10,
   "metadata": {
    "scrolled": true
   },
   "outputs": [
    {
     "name": "stdout",
     "output_type": "stream",
     "text": [
      "                        precision    recall  f1-score   support\n",
      "\n",
      "               related       0.85      0.81      0.83      1662\n",
      "               request       0.80      0.67      0.73       930\n",
      "                 offer       0.00      0.00      0.00         3\n",
      "           aid_related       0.82      0.64      0.72      1021\n",
      "          medical_help       0.43      0.02      0.04       137\n",
      "      medical_products       0.67      0.04      0.08        96\n",
      "     search_and_rescue       0.00      0.00      0.00        57\n",
      "              security       0.00      0.00      0.00        30\n",
      "              military       0.00      0.00      0.00        10\n",
      "           child_alone       0.00      0.00      0.00         0\n",
      "                 water       0.92      0.48      0.63       211\n",
      "                  food       0.91      0.66      0.77       410\n",
      "               shelter       0.85      0.30      0.45       299\n",
      "              clothing       0.00      0.00      0.00        22\n",
      "                 money       0.00      0.00      0.00        29\n",
      "        missing_people       0.00      0.00      0.00        26\n",
      "              refugees       0.00      0.00      0.00        38\n",
      "                 death       0.50      0.02      0.04        55\n",
      "             other_aid       0.61      0.19      0.29       368\n",
      "infrastructure_related       0.00      0.00      0.00        80\n",
      "             transport       0.00      0.00      0.00        47\n",
      "             buildings       0.85      0.12      0.20        95\n",
      "           electricity       0.00      0.00      0.00        18\n",
      "                 tools       0.00      0.00      0.00        11\n",
      "             hospitals       0.00      0.00      0.00        15\n",
      "                 shops       0.00      0.00      0.00         5\n",
      "           aid_centers       0.00      0.00      0.00        10\n",
      "  other_infrastructure       0.00      0.00      0.00        54\n",
      "       weather_related       0.85      0.34      0.49       371\n",
      "                floods       0.50      0.04      0.08        69\n",
      "                 storm       0.42      0.07      0.11        76\n",
      "                  fire       0.00      0.00      0.00        12\n",
      "            earthquake       0.87      0.46      0.60       206\n",
      "                  cold       1.00      0.23      0.38        13\n",
      "         other_weather       0.00      0.00      0.00        57\n",
      "         direct_report       0.76      0.60      0.67       886\n",
      "\n",
      "           avg / total       0.74      0.53      0.60      7429\n",
      "\n"
     ]
    },
    {
     "name": "stderr",
     "output_type": "stream",
     "text": [
      "/opt/conda/lib/python3.6/site-packages/sklearn/metrics/classification.py:1135: UndefinedMetricWarning: Precision and F-score are ill-defined and being set to 0.0 in labels with no predicted samples.\n",
      "  'precision', 'predicted', average, warn_for)\n",
      "/opt/conda/lib/python3.6/site-packages/sklearn/metrics/classification.py:1137: UndefinedMetricWarning: Recall and F-score are ill-defined and being set to 0.0 in labels with no true samples.\n",
      "  'recall', 'true', average, warn_for)\n"
     ]
    }
   ],
   "source": [
    "print(classification_report(y_test.values, pred, target_names = Y.columns.values))"
   ]
  },
  {
   "cell_type": "markdown",
   "metadata": {},
   "source": [
    "### 6. Improve your model\n",
    "Use grid search to find better parameters. "
   ]
  },
  {
   "cell_type": "code",
   "execution_count": 18,
   "metadata": {},
   "outputs": [
    {
     "data": {
      "text/plain": [
       "GridSearchCV(cv=None, error_score='raise',\n",
       "       estimator=Pipeline(memory=None,\n",
       "     steps=[('vect', CountVectorizer(analyzer='word', binary=False, decode_error='strict',\n",
       "        dtype=<class 'numpy.int64'>, encoding='utf-8', input='content',\n",
       "        lowercase=True, max_df=1.0, max_features=None, min_df=1,\n",
       "        ngram_range=(1, 1), preprocessor=None, stop_words=None,\n",
       "        strip...n_jobs=1,\n",
       "            oob_score=False, random_state=None, verbose=0,\n",
       "            warm_start=False))]),\n",
       "       fit_params=None, iid=True, n_jobs=1,\n",
       "       param_grid={'clf__max_depth': [None, 10, 15, 12], 'clf__n_estimators': [10, 15]},\n",
       "       pre_dispatch='2*n_jobs', refit=True, return_train_score='warn',\n",
       "       scoring=None, verbose=0)"
      ]
     },
     "execution_count": 18,
     "metadata": {},
     "output_type": "execute_result"
    }
   ],
   "source": [
    "parameters = {\n",
    "    'clf__max_depth': [None, 10, 15, 12],\n",
    "    'clf__n_estimators': [10, 15]\n",
    "}\n",
    "\n",
    "cv_g = GridSearchCV(pipeline, param_grid = parameters)\n",
    "cv_g.fit(X_train, y_train)"
   ]
  },
  {
   "cell_type": "markdown",
   "metadata": {},
   "source": [
    "### 7. Test your model\n",
    "Show the accuracy, precision, and recall of the tuned model.  \n",
    "\n",
    "Since this project focuses on code quality, process, and  pipelines, there is no minimum performance metric needed to pass. However, make sure to fine tune your models for accuracy, precision and recall to make your project stand out - especially for your portfolio!"
   ]
  },
  {
   "cell_type": "code",
   "execution_count": 14,
   "metadata": {},
   "outputs": [],
   "source": [
    "pred = cv_g.predict(X_test)"
   ]
  },
  {
   "cell_type": "code",
   "execution_count": 15,
   "metadata": {
    "scrolled": true
   },
   "outputs": [
    {
     "name": "stdout",
     "output_type": "stream",
     "text": [
      "                        precision    recall  f1-score   support\n",
      "\n",
      "               related       0.85      0.81      0.83      1638\n",
      "               request       0.81      0.60      0.69       889\n",
      "                 offer       0.00      0.00      0.00         1\n",
      "           aid_related       0.84      0.59      0.69       997\n",
      "          medical_help       0.75      0.02      0.04       142\n",
      "      medical_products       0.75      0.04      0.08        72\n",
      "     search_and_rescue       0.00      0.00      0.00        38\n",
      "              security       0.00      0.00      0.00        36\n",
      "              military       0.00      0.00      0.00         7\n",
      "           child_alone       0.00      0.00      0.00         0\n",
      "                 water       0.89      0.52      0.65       198\n",
      "                  food       0.90      0.61      0.73       375\n",
      "               shelter       0.87      0.33      0.48       251\n",
      "              clothing       0.00      0.00      0.00        25\n",
      "                 money       0.00      0.00      0.00        25\n",
      "        missing_people       0.00      0.00      0.00        17\n",
      "              refugees       0.00      0.00      0.00        37\n",
      "                 death       0.67      0.04      0.07        52\n",
      "             other_aid       0.63      0.11      0.18       379\n",
      "infrastructure_related       0.00      0.00      0.00        69\n",
      "             transport       0.00      0.00      0.00        47\n",
      "             buildings       0.76      0.13      0.22       102\n",
      "           electricity       0.00      0.00      0.00        14\n",
      "                 tools       0.00      0.00      0.00         9\n",
      "             hospitals       0.00      0.00      0.00        13\n",
      "                 shops       0.00      0.00      0.00         8\n",
      "           aid_centers       0.00      0.00      0.00        15\n",
      "  other_infrastructure       0.00      0.00      0.00        42\n",
      "       weather_related       0.86      0.44      0.58       359\n",
      "                floods       0.80      0.11      0.20        70\n",
      "                 storm       0.83      0.22      0.35        68\n",
      "                  fire       0.00      0.00      0.00        10\n",
      "            earthquake       0.85      0.61      0.71       195\n",
      "                  cold       1.00      0.08      0.15        12\n",
      "         other_weather       1.00      0.02      0.04        50\n",
      "         direct_report       0.78      0.52      0.62       892\n",
      "\n",
      "           avg / total       0.77      0.51      0.59      7154\n",
      "\n"
     ]
    },
    {
     "name": "stderr",
     "output_type": "stream",
     "text": [
      "/opt/conda/lib/python3.6/site-packages/sklearn/metrics/classification.py:1135: UndefinedMetricWarning: Precision and F-score are ill-defined and being set to 0.0 in labels with no predicted samples.\n",
      "  'precision', 'predicted', average, warn_for)\n",
      "/opt/conda/lib/python3.6/site-packages/sklearn/metrics/classification.py:1137: UndefinedMetricWarning: Recall and F-score are ill-defined and being set to 0.0 in labels with no true samples.\n",
      "  'recall', 'true', average, warn_for)\n"
     ]
    }
   ],
   "source": [
    "print(classification_report(y_test.values, pred, target_names = Y.columns.values))"
   ]
  },
  {
   "cell_type": "markdown",
   "metadata": {},
   "source": [
    "### 8. Try improving your model further. Here are a few ideas:\n",
    "* try other machine learning algorithms\n",
    "* add other features besides the TF-IDF"
   ]
  },
  {
   "cell_type": "code",
   "execution_count": 12,
   "metadata": {
    "scrolled": true
   },
   "outputs": [],
   "source": [
    "Y = Y.drop(['child_alone'], axis = 1)"
   ]
  },
  {
   "cell_type": "code",
   "execution_count": 13,
   "metadata": {},
   "outputs": [],
   "source": [
    "X_train, X_test, y_train, y_test = train_test_split(X, Y)"
   ]
  },
  {
   "cell_type": "markdown",
   "metadata": {},
   "source": [
    "### 9. Export your model as a pickle file"
   ]
  },
  {
   "cell_type": "code",
   "execution_count": 14,
   "metadata": {},
   "outputs": [],
   "source": [
    "pipeline_2 = Pipeline([('vect', CountVectorizer(tokenizer = tokenize)), \n",
    "                    ('tfidf', TfidfTransformer()),\n",
    "                    ('clfa', MultiOutputClassifier(SVC()))])"
   ]
  },
  {
   "cell_type": "code",
   "execution_count": 17,
   "metadata": {
    "scrolled": true
   },
   "outputs": [
    {
     "name": "stdout",
     "output_type": "stream",
     "text": [
      "                        precision    recall  f1-score   support\n",
      "\n",
      "               related       0.85      0.86      0.86      1652\n",
      "               request       0.78      0.75      0.76       862\n",
      "                 offer       0.00      0.00      0.00         4\n",
      "           aid_related       0.77      0.75      0.76       934\n",
      "          medical_help       0.66      0.13      0.22       144\n",
      "      medical_products       0.86      0.23      0.37        82\n",
      "     search_and_rescue       0.00      0.00      0.00        52\n",
      "              security       0.00      0.00      0.00        32\n",
      "              military       0.00      0.00      0.00        11\n",
      "                 water       0.88      0.88      0.88       209\n",
      "                  food       0.88      0.91      0.90       367\n",
      "               shelter       0.76      0.66      0.71       237\n",
      "              clothing       0.67      0.24      0.35        17\n",
      "                 money       0.00      0.00      0.00        39\n",
      "        missing_people       0.00      0.00      0.00        19\n",
      "              refugees       0.00      0.00      0.00        41\n",
      "                 death       0.69      0.16      0.26        69\n",
      "             other_aid       0.58      0.21      0.31       351\n",
      "infrastructure_related       0.00      0.00      0.00        73\n",
      "             transport       0.00      0.00      0.00        50\n",
      "             buildings       0.65      0.38      0.48        86\n",
      "           electricity       0.00      0.00      0.00        16\n",
      "                 tools       0.00      0.00      0.00         8\n",
      "             hospitals       0.00      0.00      0.00        17\n",
      "                 shops       0.00      0.00      0.00         3\n",
      "           aid_centers       0.00      0.00      0.00        22\n",
      "  other_infrastructure       0.00      0.00      0.00        36\n",
      "       weather_related       0.89      0.64      0.74       373\n",
      "                floods       0.80      0.26      0.39        62\n",
      "                 storm       0.69      0.60      0.65        68\n",
      "                  fire       0.00      0.00      0.00        10\n",
      "            earthquake       0.91      0.81      0.86       217\n",
      "                  cold       0.00      0.00      0.00        16\n",
      "         other_weather       0.50      0.02      0.04        49\n",
      "         direct_report       0.73      0.66      0.70       848\n",
      "\n",
      "           avg / total       0.74      0.66      0.68      7076\n",
      "\n"
     ]
    },
    {
     "name": "stderr",
     "output_type": "stream",
     "text": [
      "/opt/conda/lib/python3.6/site-packages/sklearn/metrics/classification.py:1135: UndefinedMetricWarning: Precision and F-score are ill-defined and being set to 0.0 in labels with no predicted samples.\n",
      "  'precision', 'predicted', average, warn_for)\n"
     ]
    }
   ],
   "source": [
    "parameters = {\n",
    "    'clfa__estimator__C': [0.1, 1, 10],\n",
    "    'clfa__estimator__kernel': ['rbf', 'linear']\n",
    "}\n",
    "\n",
    "cv_a = GridSearchCV(pipeline_2, param_grid = parameters)\n",
    "cv_a.fit(X_train, y_train)\n",
    "pred_a = cv_a.predict(X_test)\n",
    "print(classification_report(y_test.values, pred_a, target_names = Y.columns.values))"
   ]
  },
  {
   "cell_type": "markdown",
   "metadata": {},
   "source": [
    "### 10. Use this notebook to complete `train.py`\n",
    "Use the template file attached in the Resources folder to write a script that runs the steps above to create a database and export a model based on a new dataset specified by the user."
   ]
  },
  {
   "cell_type": "code",
   "execution_count": 20,
   "metadata": {},
   "outputs": [
    {
     "data": {
      "text/plain": [
       "['classifier.pkl']"
      ]
     },
     "execution_count": 20,
     "metadata": {},
     "output_type": "execute_result"
    }
   ],
   "source": [
    "import joblib\n",
    "joblib.dump(cv_g, 'classifier.pkl', compress = True)"
   ]
  },
  {
   "cell_type": "code",
   "execution_count": 21,
   "metadata": {},
   "outputs": [
    {
     "data": {
      "text/plain": [
       "['classifier.pkl']"
      ]
     },
     "execution_count": 21,
     "metadata": {},
     "output_type": "execute_result"
    }
   ],
   "source": [
    "joblib.dump(cv_a, 'classifier.pkl', compress = True)"
   ]
  }
 ],
 "metadata": {
  "kernelspec": {
   "display_name": "Python 3",
   "language": "python",
   "name": "python3"
  },
  "language_info": {
   "codemirror_mode": {
    "name": "ipython",
    "version": 3
   },
   "file_extension": ".py",
   "mimetype": "text/x-python",
   "name": "python",
   "nbconvert_exporter": "python",
   "pygments_lexer": "ipython3",
   "version": "3.7.4"
  }
 },
 "nbformat": 4,
 "nbformat_minor": 2
}
